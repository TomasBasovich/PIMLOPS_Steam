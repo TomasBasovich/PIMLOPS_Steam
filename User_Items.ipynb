{
 "cells": [
  {
   "cell_type": "code",
   "execution_count": 2,
   "metadata": {},
   "outputs": [],
   "source": [
    "#importamos las librerías necesarias para trabajar\n",
    "import nltk\n",
    "from vaderSentiment.vaderSentiment import SentimentIntensityAnalyzer\n",
    "import json\n",
    "import pandas as pd\n",
    "import ast\n",
    "import matplotlib.pyplot as plt\n",
    "from textblob import TextBlob\n",
    "import pyarrow"
   ]
  },
  {
   "cell_type": "code",
   "execution_count": 3,
   "metadata": {},
   "outputs": [],
   "source": [
    "#cargamos el archivo json\n",
    "with open('C:\\\\Users\\\\Tom\\\\Desktop\\\\PIMLOps-STEAM\\\\dataset\\\\australian_users_items.json', 'r', encoding='utf-8') as file:\n",
    "    data = [eval(line) for line in file]\n",
    "\n",
    "#convertimos en un dataframe el archivo y lo desanidamos completamente\n",
    "user_items = pd.DataFrame(data)\n",
    "user_items_explored = user_items.explode('items')\n",
    "user_items_normalized = pd.json_normalize(user_items_explored['items'])\n",
    "user_items_explored.reset_index(drop=True, inplace=True)\n",
    "user_items_normalized.reset_index(drop=True, inplace=True)\n",
    "user_items_final = pd.concat([user_items_explored.drop('items',axis=1), user_items_normalized], axis=1)"
   ]
  },
  {
   "cell_type": "code",
   "execution_count": 4,
   "metadata": {},
   "outputs": [],
   "source": [
    "#aquí renombramos las columnas para que sea vean más prolijas y esteticas\n",
    "user_items_final.rename(columns={'user_id': 'User ID'}, inplace=True)\n",
    "user_items_final.rename(columns={'items_count': 'Items Count'}, inplace=True)\n",
    "user_items_final.rename(columns={'steam_id': 'Steam ID'}, inplace=True)\n",
    "user_items_final.rename(columns={'user_url': 'User URL'}, inplace=True)\n",
    "user_items_final.rename(columns={'item_id': 'Item ID'}, inplace=True)\n",
    "user_items_final.rename(columns={'item_name': 'Item Name'}, inplace=True)\n",
    "user_items_final.rename(columns={'playtime_forever': 'Playtime Forever'}, inplace=True)\n",
    "user_items_final.rename(columns={'playtime_2weeks': 'Playtime 2 Weeks'}, inplace=True)"
   ]
  },
  {
   "cell_type": "code",
   "execution_count": 5,
   "metadata": {},
   "outputs": [],
   "source": [
    "#eliminamos datos nulos de la columna \"Item Name\"\n",
    "user_items_final.dropna(subset=\"Item Name\", inplace=True)"
   ]
  },
  {
   "cell_type": "code",
   "execution_count": 6,
   "metadata": {},
   "outputs": [],
   "source": [
    "#eliminamos datos duplicados del dataframe\n",
    "user_items_final.drop_duplicates(inplace=True)"
   ]
  },
  {
   "cell_type": "code",
   "execution_count": 7,
   "metadata": {},
   "outputs": [],
   "source": [
    "#eliminamos las siguientes columnas las cuales no utilizaremos (esto más que nada por cuestiones de peso del archivo)\n",
    "user_items_final.drop(columns=\"User URL\", inplace=True)\n",
    "user_items_final.drop(columns=\"Playtime 2 Weeks\", inplace=True)\n",
    "user_items_final.drop(columns=\"Items Count\", inplace=True)\n",
    "user_items_final.drop(columns=\"Item Name\", inplace=True)"
   ]
  },
  {
   "cell_type": "code",
   "execution_count": 8,
   "metadata": {},
   "outputs": [],
   "source": [
    "#reiniciamos el indice del dataframe\n",
    "user_items_final = user_items_final.reset_index(drop=True)"
   ]
  },
  {
   "cell_type": "code",
   "execution_count": 9,
   "metadata": {},
   "outputs": [
    {
     "data": {
      "text/html": [
       "<div>\n",
       "<style scoped>\n",
       "    .dataframe tbody tr th:only-of-type {\n",
       "        vertical-align: middle;\n",
       "    }\n",
       "\n",
       "    .dataframe tbody tr th {\n",
       "        vertical-align: top;\n",
       "    }\n",
       "\n",
       "    .dataframe thead th {\n",
       "        text-align: right;\n",
       "    }\n",
       "</style>\n",
       "<table border=\"1\" class=\"dataframe\">\n",
       "  <thead>\n",
       "    <tr style=\"text-align: right;\">\n",
       "      <th></th>\n",
       "      <th>User ID</th>\n",
       "      <th>Steam ID</th>\n",
       "      <th>Item ID</th>\n",
       "      <th>Playtime Forever</th>\n",
       "    </tr>\n",
       "  </thead>\n",
       "  <tbody>\n",
       "    <tr>\n",
       "      <th>0</th>\n",
       "      <td>76561197970982479</td>\n",
       "      <td>76561197970982479</td>\n",
       "      <td>10</td>\n",
       "      <td>6.0</td>\n",
       "    </tr>\n",
       "    <tr>\n",
       "      <th>1</th>\n",
       "      <td>76561197970982479</td>\n",
       "      <td>76561197970982479</td>\n",
       "      <td>20</td>\n",
       "      <td>0.0</td>\n",
       "    </tr>\n",
       "    <tr>\n",
       "      <th>2</th>\n",
       "      <td>76561197970982479</td>\n",
       "      <td>76561197970982479</td>\n",
       "      <td>30</td>\n",
       "      <td>7.0</td>\n",
       "    </tr>\n",
       "    <tr>\n",
       "      <th>3</th>\n",
       "      <td>76561197970982479</td>\n",
       "      <td>76561197970982479</td>\n",
       "      <td>40</td>\n",
       "      <td>0.0</td>\n",
       "    </tr>\n",
       "    <tr>\n",
       "      <th>4</th>\n",
       "      <td>76561197970982479</td>\n",
       "      <td>76561197970982479</td>\n",
       "      <td>50</td>\n",
       "      <td>0.0</td>\n",
       "    </tr>\n",
       "    <tr>\n",
       "      <th>...</th>\n",
       "      <td>...</td>\n",
       "      <td>...</td>\n",
       "      <td>...</td>\n",
       "      <td>...</td>\n",
       "    </tr>\n",
       "    <tr>\n",
       "      <th>5094100</th>\n",
       "      <td>76561198329548331</td>\n",
       "      <td>76561198329548331</td>\n",
       "      <td>346330</td>\n",
       "      <td>0.0</td>\n",
       "    </tr>\n",
       "    <tr>\n",
       "      <th>5094101</th>\n",
       "      <td>76561198329548331</td>\n",
       "      <td>76561198329548331</td>\n",
       "      <td>373330</td>\n",
       "      <td>0.0</td>\n",
       "    </tr>\n",
       "    <tr>\n",
       "      <th>5094102</th>\n",
       "      <td>76561198329548331</td>\n",
       "      <td>76561198329548331</td>\n",
       "      <td>388490</td>\n",
       "      <td>3.0</td>\n",
       "    </tr>\n",
       "    <tr>\n",
       "      <th>5094103</th>\n",
       "      <td>76561198329548331</td>\n",
       "      <td>76561198329548331</td>\n",
       "      <td>521570</td>\n",
       "      <td>4.0</td>\n",
       "    </tr>\n",
       "    <tr>\n",
       "      <th>5094104</th>\n",
       "      <td>76561198329548331</td>\n",
       "      <td>76561198329548331</td>\n",
       "      <td>519140</td>\n",
       "      <td>3.0</td>\n",
       "    </tr>\n",
       "  </tbody>\n",
       "</table>\n",
       "<p>5094105 rows × 4 columns</p>\n",
       "</div>"
      ],
      "text/plain": [
       "                   User ID           Steam ID Item ID  Playtime Forever\n",
       "0        76561197970982479  76561197970982479      10               6.0\n",
       "1        76561197970982479  76561197970982479      20               0.0\n",
       "2        76561197970982479  76561197970982479      30               7.0\n",
       "3        76561197970982479  76561197970982479      40               0.0\n",
       "4        76561197970982479  76561197970982479      50               0.0\n",
       "...                    ...                ...     ...               ...\n",
       "5094100  76561198329548331  76561198329548331  346330               0.0\n",
       "5094101  76561198329548331  76561198329548331  373330               0.0\n",
       "5094102  76561198329548331  76561198329548331  388490               3.0\n",
       "5094103  76561198329548331  76561198329548331  521570               4.0\n",
       "5094104  76561198329548331  76561198329548331  519140               3.0\n",
       "\n",
       "[5094105 rows x 4 columns]"
      ]
     },
     "execution_count": 9,
     "metadata": {},
     "output_type": "execute_result"
    }
   ],
   "source": [
    "#llamamos al dataframe para ver como quedó\n",
    "user_items_final"
   ]
  },
  {
   "cell_type": "code",
   "execution_count": 10,
   "metadata": {},
   "outputs": [
    {
     "name": "stdout",
     "output_type": "stream",
     "text": [
      "float64\n"
     ]
    }
   ],
   "source": [
    "column_data_types = user_items_final['Playtime Forever'].dtypes\n",
    "print(column_data_types)"
   ]
  },
  {
   "cell_type": "code",
   "execution_count": 11,
   "metadata": {},
   "outputs": [],
   "source": [
    "#creamos un archivo parquet del dataframe\n",
    "user_items_final.to_parquet('User_Items.parquet')"
   ]
  }
 ],
 "metadata": {
  "kernelspec": {
   "display_name": "PIvenv",
   "language": "python",
   "name": "python3"
  },
  "language_info": {
   "codemirror_mode": {
    "name": "ipython",
    "version": 3
   },
   "file_extension": ".py",
   "mimetype": "text/x-python",
   "name": "python",
   "nbconvert_exporter": "python",
   "pygments_lexer": "ipython3",
   "version": "3.11.2"
  }
 },
 "nbformat": 4,
 "nbformat_minor": 2
}
